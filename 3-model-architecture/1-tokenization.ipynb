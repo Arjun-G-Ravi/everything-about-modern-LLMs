{
 "cells": [
  {
   "cell_type": "markdown",
   "id": "0fd74306",
   "metadata": {},
   "source": [
    "# Tokenization\n",
    "Tokenization is the process of breaking down input text into smaller pieces called tokens before feeding it into a model. In modern LLMs, tokenization is the first step in processing any text.\n",
    "\n",
    "Neural networks can't process raw text. They need numbers. Tokenization turns words or parts of words into units that can be mapped to numbers (token IDs).\n",
    "\n"
   ]
  },
  {
   "cell_type": "code",
   "execution_count": null,
   "id": "75841e21",
   "metadata": {},
   "outputs": [
    {
     "name": "stdout",
     "output_type": "stream",
     "text": [
      "['the', 'cats', 'are', 'playing', 'inside', 'the', 'super', '##du', '##per', 'house']\n",
      "[101, 1996, 8870, 2024, 2652, 2503, 1996, 3565, 8566, 4842, 2160, 102]\n"
     ]
    }
   ],
   "source": [
    "from transformers import AutoTokenizer\n",
    "\n",
    "tokenizer = AutoTokenizer.from_pretrained(\"bert-base-uncased\") # using bert's tokenizer\n",
    "text = \"The cats are playing inside the superduper house\"\n",
    "tokens = tokenizer.tokenize(text)\n",
    "token_ids = tokenizer.encode(text)\n",
    "\n",
    "print(tokens)\n",
    "print(token_ids) "
   ]
  },
  {
   "cell_type": "code",
   "execution_count": null,
   "id": "a6229f27",
   "metadata": {},
   "outputs": [],
   "source": []
  },
  {
   "cell_type": "code",
   "execution_count": null,
   "id": "bff75bd1",
   "metadata": {},
   "outputs": [],
   "source": []
  },
  {
   "cell_type": "code",
   "execution_count": null,
   "id": "a05d65b0",
   "metadata": {},
   "outputs": [],
   "source": []
  },
  {
   "cell_type": "code",
   "execution_count": null,
   "id": "f0372ec3",
   "metadata": {},
   "outputs": [],
   "source": []
  }
 ],
 "metadata": {
  "kernelspec": {
   "display_name": "Python (ai_env)",
   "language": "python",
   "name": "ai_env"
  },
  "language_info": {
   "codemirror_mode": {
    "name": "ipython",
    "version": 3
   },
   "file_extension": ".py",
   "mimetype": "text/x-python",
   "name": "python",
   "nbconvert_exporter": "python",
   "pygments_lexer": "ipython3",
   "version": "3.13.7"
  }
 },
 "nbformat": 4,
 "nbformat_minor": 5
}
