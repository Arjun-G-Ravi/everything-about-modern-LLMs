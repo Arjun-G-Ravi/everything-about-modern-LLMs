{
 "cells": [
  {
   "cell_type": "markdown",
   "id": "8c9f49e8",
   "metadata": {},
   "source": [
    "# Self Attention\n",
    "Attention in LLMs is a mechanism that allows the model to focus on different parts of the input sequence when processing each token. In the context of transformers, it computes a weighted average of all tokens for each token, letting the model \"attend\" to relevant parts."
   ]
  },
  {
   "cell_type": "code",
   "execution_count": 9,
   "id": "ea9233d5",
   "metadata": {},
   "outputs": [
    {
     "name": "stdout",
     "output_type": "stream",
     "text": [
      "Sample tokens:\n",
      " tensor([[0.2429, 0.1176, 0.3660, 0.8112],\n",
      "        [0.3871, 0.6056, 0.0759, 0.2050],\n",
      "        [0.4745, 0.5922, 0.1595, 0.4395],\n",
      "        [0.9812, 0.0948, 0.9929, 0.4543],\n",
      "        [0.3246, 0.2551, 0.8802, 0.0150],\n",
      "        [0.8081, 0.8946, 0.3738, 0.1147],\n",
      "        [0.5037, 0.5514, 0.4478, 0.7581],\n",
      "        [0.4618, 0.4430, 0.6137, 0.6494],\n",
      "        [0.6258, 0.6795, 0.7773, 0.3714],\n",
      "        [0.1914, 0.7553, 0.4314, 0.8364]])\n",
      "\n",
      "Attention output:\n",
      " tensor([[1.2994, 0.7965, 0.8056, 0.8360],\n",
      "        [1.2843, 0.7925, 0.8000, 0.8249],\n",
      "        [1.2966, 0.8001, 0.8077, 0.8337],\n",
      "        [1.3276, 0.8143, 0.8229, 0.8607],\n",
      "        [1.3016, 0.7962, 0.8054, 0.8418],\n",
      "        [1.3099, 0.8110, 0.8177, 0.8451],\n",
      "        [1.3166, 0.8113, 0.8191, 0.8491],\n",
      "        [1.3166, 0.8094, 0.8177, 0.8501],\n",
      "        [1.3235, 0.8153, 0.8231, 0.8565],\n",
      "        [1.3165, 0.8114, 0.8192, 0.8485]])\n"
     ]
    }
   ],
   "source": [
    "import torch\n",
    "import torch.nn.functional as F\n",
    "\n",
    "d = 4 # dimension\n",
    "\n",
    "x = torch.rand(10, d)  # (tokens, embedding_dim) # 10 tokens - input sequence\n",
    "print('Sample tokens:\\n', x)\n",
    "\n",
    "# Linear projections for queries, keys, values\n",
    "# These weight matrices learn to transform input embeddings into Q, K, V representations\n",
    "W_q = torch.rand(d, d)  # Query projection - \"what am I looking for?\"\n",
    "W_k = torch.rand(d, d)  # Key projection - \"what do I contain?\"\n",
    "W_v = torch.rand(d, d)  # Value projection - \"what information do I actually provide?\"\n",
    "\n",
    "Q = x @ W_q   # Queries: each token asks \"what should I attend to?\"\n",
    "K = x @ W_k   # Keys: each token says \"here's what I represent\"\n",
    "V = x @ W_v   # Values: each token says \"here's the info I contribute\"\n",
    "\n",
    "# Compute attention scores - how much should each token attend to every other token?\n",
    "scores = Q @ K.T / (d ** 0.5)  # (10, 10), scaled dot product attention\n",
    "# Apply softmax to get attention weights - normalize scores into probabilities\n",
    "\n",
    "weights = F.softmax(scores, dim=-1)  # (10, 10)\n",
    "# Each row sums to 1, representing attention distribution for that token\n",
    "\n",
    "# Weighted sum of values - final attended representation\n",
    "attended = weights @ V  # (10, d)\n",
    "# For each token: mix all value vectors weighted by attention scores\n",
    "# This is the core of self-attention: tokens can look at and incorporate \n",
    "# information from all other tokens in the sequence\n",
    "\n",
    "print(\"\\nAttention output:\\n\", attended)"
   ]
  },
  {
   "cell_type": "markdown",
   "id": "275c028e",
   "metadata": {},
   "source": [
    "# Cross Attention\n",
    "Cross-attention is used in models like the Transformer decoder, where the model attends to a different sequence (e.g., encoder outputs) rather than the same sequence. This allows the decoder to focus on relevant parts of the input sequence while generating output."
   ]
  },
  {
   "cell_type": "markdown",
   "id": "c817beee",
   "metadata": {},
   "source": [
    "# Multi-Head Attention\n",
    "Multi-Head Attention is an extension of the attention mechanism used in transformers. Instead of calculating attention once, it does it multiple times in parallel, with each version called a “head.” Each head learns to focus on different parts or aspects of the input.\n",
    "\n",
    "Multi-head attention means running attention multiple times in parallel, each time with different “views” of the input, then combining the results. This makes transformers much more powerful at modeling complex relationships in language.\n",
    "\n",
    "\n",
    "\n",
    "- The input is projected into several smaller spaces (one for each head).\n",
    "- Each head performs its own self-attention calculation independently.\n",
    "- This means each head can capture different relationships or features in the data.\n",
    "- The outputs from all heads are concatenated (joined together) and then transformed one more time with a linear layer.\n",
    "- Multiple heads allow the model to learn different kinds of relationships at the same time, improving its understanding of the context.\n",
    "\n",
    "\n"
   ]
  },
  {
   "cell_type": "code",
   "execution_count": 3,
   "id": "3ef628ef",
   "metadata": {},
   "outputs": [
    {
     "name": "stdout",
     "output_type": "stream",
     "text": [
      "Random input tensor x created with shape: torch.Size([10, 32, 512])\n",
      "MultiHeadAttention module initialized with 8 heads.\n",
      "Input tensor shape: torch.Size([10, 32, 512]) (sequence_len, batch, embedding_dim)\n",
      "Attention output shape: torch.Size([10, 32, 512]) (sequence_len, batch, embedding_dim)\n",
      "Attention weights shape: torch.Size([32, 10, 10]) (batch, sequence_len, sequence_len)\n",
      "Final output tensor shape: torch.Size([10, 32, 512])\n"
     ]
    }
   ],
   "source": [
    "import torch\n",
    "import torch.nn as nn\n",
    "\n",
    "# Multi-Head Attention module with clear explanations\n",
    "class MultiHeadAttention(nn.Module):\n",
    "    def __init__(self, embed_dim, num_heads):\n",
    "        super().__init__()\n",
    "        # Initialize PyTorch's built-in MultiheadAttention layer\n",
    "        self.attention = nn.MultiheadAttention(embed_dim, num_heads)\n",
    "    \n",
    "    def forward(self, x):\n",
    "        # x shape: (sequence_len, batch, embedding_dim)\n",
    "        print(f\"Input tensor shape: {x.shape} (sequence_len, batch, embedding_dim)\")\n",
    "        # Self-attention: query, key, value are all x\n",
    "        attn_output, attn_weights = self.attention(x, x, x)\n",
    "        print(f\"Attention output shape: {attn_output.shape} (sequence_len, batch, embedding_dim)\")\n",
    "        print(f\"Attention weights shape: {attn_weights.shape} (batch, sequence_len, sequence_len)\")\n",
    "        return attn_output\n",
    "\n",
    "# Example usage\n",
    "x = torch.rand(10, 32, 512)  # 10 tokens, batch size 32, embedding dim 512\n",
    "print(\"Random input tensor x created with shape:\", x.shape)\n",
    "mha = MultiHeadAttention(embed_dim=512, num_heads=8)\n",
    "print(\"MultiHeadAttention module initialized with 8 heads.\")\n",
    "output = mha(x)\n",
    "print(\"Final output tensor shape:\", output.shape)"
   ]
  },
  {
   "cell_type": "code",
   "execution_count": null,
   "id": "b46fc072",
   "metadata": {},
   "outputs": [],
   "source": []
  },
  {
   "cell_type": "code",
   "execution_count": null,
   "id": "3c326ab2",
   "metadata": {},
   "outputs": [],
   "source": []
  },
  {
   "cell_type": "code",
   "execution_count": null,
   "id": "b0dbcf13",
   "metadata": {},
   "outputs": [],
   "source": []
  }
 ],
 "metadata": {
  "kernelspec": {
   "display_name": "Python (ai_env)",
   "language": "python",
   "name": "ai_env"
  },
  "language_info": {
   "codemirror_mode": {
    "name": "ipython",
    "version": 3
   },
   "file_extension": ".py",
   "mimetype": "text/x-python",
   "name": "python",
   "nbconvert_exporter": "python",
   "pygments_lexer": "ipython3",
   "version": "3.13.7"
  }
 },
 "nbformat": 4,
 "nbformat_minor": 5
}
